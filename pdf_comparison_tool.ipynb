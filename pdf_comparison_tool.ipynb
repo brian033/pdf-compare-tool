{
 "cells": [
  {
   "cell_type": "code",
   "execution_count": 2,
   "id": "dc3bf912",
   "metadata": {},
   "outputs": [
    {
     "name": "stdout",
     "output_type": "stream",
     "text": [
      "Requirement already satisfied: langchain_ollama in /Users/binwei130/opt/miniconda3/envs/sub_test/lib/python3.11/site-packages (0.3.2)\n",
      "Requirement already satisfied: langchain_core in /Users/binwei130/opt/miniconda3/envs/sub_test/lib/python3.11/site-packages (0.3.56)\n",
      "Requirement already satisfied: pydantic in /Users/binwei130/opt/miniconda3/envs/sub_test/lib/python3.11/site-packages (2.11.3)\n",
      "Requirement already satisfied: langgraph in /Users/binwei130/opt/miniconda3/envs/sub_test/lib/python3.11/site-packages (0.3.34)\n",
      "Requirement already satisfied: markitdown[all] in /Users/binwei130/opt/miniconda3/envs/sub_test/lib/python3.11/site-packages (0.1.1)\n",
      "Requirement already satisfied: ollama<1,>=0.4.4 in /Users/binwei130/opt/miniconda3/envs/sub_test/lib/python3.11/site-packages (from langchain_ollama) (0.4.8)\n",
      "Requirement already satisfied: langsmith<0.4,>=0.1.125 in /Users/binwei130/opt/miniconda3/envs/sub_test/lib/python3.11/site-packages (from langchain_core) (0.3.37)\n",
      "Requirement already satisfied: tenacity!=8.4.0,<10.0.0,>=8.1.0 in /Users/binwei130/opt/miniconda3/envs/sub_test/lib/python3.11/site-packages (from langchain_core) (9.1.2)\n",
      "Requirement already satisfied: jsonpatch<2.0,>=1.33 in /Users/binwei130/opt/miniconda3/envs/sub_test/lib/python3.11/site-packages (from langchain_core) (1.33)\n",
      "Requirement already satisfied: PyYAML>=5.3 in /Users/binwei130/opt/miniconda3/envs/sub_test/lib/python3.11/site-packages (from langchain_core) (6.0.2)\n",
      "Requirement already satisfied: packaging<25,>=23.2 in /Users/binwei130/opt/miniconda3/envs/sub_test/lib/python3.11/site-packages (from langchain_core) (24.2)\n",
      "Requirement already satisfied: typing-extensions>=4.7 in /Users/binwei130/opt/miniconda3/envs/sub_test/lib/python3.11/site-packages (from langchain_core) (4.13.2)\n",
      "Requirement already satisfied: beautifulsoup4 in /Users/binwei130/opt/miniconda3/envs/sub_test/lib/python3.11/site-packages (from markitdown[all]) (4.13.4)\n",
      "Requirement already satisfied: charset-normalizer in /Users/binwei130/opt/miniconda3/envs/sub_test/lib/python3.11/site-packages (from markitdown[all]) (3.4.1)\n",
      "Requirement already satisfied: magika~=0.6.1 in /Users/binwei130/opt/miniconda3/envs/sub_test/lib/python3.11/site-packages (from markitdown[all]) (0.6.1)\n",
      "Requirement already satisfied: markdownify in /Users/binwei130/opt/miniconda3/envs/sub_test/lib/python3.11/site-packages (from markitdown[all]) (1.1.0)\n",
      "Requirement already satisfied: requests in /Users/binwei130/opt/miniconda3/envs/sub_test/lib/python3.11/site-packages (from markitdown[all]) (2.32.3)\n",
      "Requirement already satisfied: azure-ai-documentintelligence in /Users/binwei130/opt/miniconda3/envs/sub_test/lib/python3.11/site-packages (from markitdown[all]) (1.0.2)\n",
      "Requirement already satisfied: azure-identity in /Users/binwei130/opt/miniconda3/envs/sub_test/lib/python3.11/site-packages (from markitdown[all]) (1.21.0)\n",
      "Requirement already satisfied: mammoth in /Users/binwei130/opt/miniconda3/envs/sub_test/lib/python3.11/site-packages (from markitdown[all]) (1.9.0)\n",
      "Requirement already satisfied: olefile in /Users/binwei130/opt/miniconda3/envs/sub_test/lib/python3.11/site-packages (from markitdown[all]) (0.47)\n",
      "Requirement already satisfied: openpyxl in /Users/binwei130/opt/miniconda3/envs/sub_test/lib/python3.11/site-packages (from markitdown[all]) (3.1.5)\n",
      "Requirement already satisfied: pandas in /Users/binwei130/opt/miniconda3/envs/sub_test/lib/python3.11/site-packages (from markitdown[all]) (2.2.3)\n",
      "Requirement already satisfied: pdfminer-six in /Users/binwei130/opt/miniconda3/envs/sub_test/lib/python3.11/site-packages (from markitdown[all]) (20250416)\n",
      "Requirement already satisfied: pydub in /Users/binwei130/opt/miniconda3/envs/sub_test/lib/python3.11/site-packages (from markitdown[all]) (0.25.1)\n",
      "Requirement already satisfied: python-pptx in /Users/binwei130/opt/miniconda3/envs/sub_test/lib/python3.11/site-packages (from markitdown[all]) (1.0.2)\n",
      "Requirement already satisfied: speechrecognition in /Users/binwei130/opt/miniconda3/envs/sub_test/lib/python3.11/site-packages (from markitdown[all]) (3.14.2)\n",
      "Requirement already satisfied: xlrd in /Users/binwei130/opt/miniconda3/envs/sub_test/lib/python3.11/site-packages (from markitdown[all]) (2.0.1)\n",
      "Requirement already satisfied: youtube-transcript-api~=1.0.0 in /Users/binwei130/opt/miniconda3/envs/sub_test/lib/python3.11/site-packages (from markitdown[all]) (1.0.3)\n",
      "Requirement already satisfied: annotated-types>=0.6.0 in /Users/binwei130/opt/miniconda3/envs/sub_test/lib/python3.11/site-packages (from pydantic) (0.7.0)\n",
      "Requirement already satisfied: pydantic-core==2.33.1 in /Users/binwei130/opt/miniconda3/envs/sub_test/lib/python3.11/site-packages (from pydantic) (2.33.1)\n",
      "Requirement already satisfied: typing-inspection>=0.4.0 in /Users/binwei130/opt/miniconda3/envs/sub_test/lib/python3.11/site-packages (from pydantic) (0.4.0)\n",
      "Requirement already satisfied: langgraph-checkpoint<3.0.0,>=2.0.10 in /Users/binwei130/opt/miniconda3/envs/sub_test/lib/python3.11/site-packages (from langgraph) (2.0.24)\n",
      "Requirement already satisfied: langgraph-prebuilt<0.2,>=0.1.8 in /Users/binwei130/opt/miniconda3/envs/sub_test/lib/python3.11/site-packages (from langgraph) (0.1.8)\n",
      "Requirement already satisfied: langgraph-sdk<0.2.0,>=0.1.42 in /Users/binwei130/opt/miniconda3/envs/sub_test/lib/python3.11/site-packages (from langgraph) (0.1.63)\n",
      "Requirement already satisfied: xxhash<4.0.0,>=3.5.0 in /Users/binwei130/opt/miniconda3/envs/sub_test/lib/python3.11/site-packages (from langgraph) (3.5.0)\n",
      "Requirement already satisfied: jsonpointer>=1.9 in /Users/binwei130/opt/miniconda3/envs/sub_test/lib/python3.11/site-packages (from jsonpatch<2.0,>=1.33->langchain_core) (3.0.0)\n",
      "Requirement already satisfied: ormsgpack<2.0.0,>=1.8.0 in /Users/binwei130/opt/miniconda3/envs/sub_test/lib/python3.11/site-packages (from langgraph-checkpoint<3.0.0,>=2.0.10->langgraph) (1.9.1)\n",
      "Requirement already satisfied: httpx>=0.25.2 in /Users/binwei130/opt/miniconda3/envs/sub_test/lib/python3.11/site-packages (from langgraph-sdk<0.2.0,>=0.1.42->langgraph) (0.28.1)\n",
      "Requirement already satisfied: orjson>=3.10.1 in /Users/binwei130/opt/miniconda3/envs/sub_test/lib/python3.11/site-packages (from langgraph-sdk<0.2.0,>=0.1.42->langgraph) (3.10.16)\n",
      "Requirement already satisfied: requests-toolbelt<2.0.0,>=1.0.0 in /Users/binwei130/opt/miniconda3/envs/sub_test/lib/python3.11/site-packages (from langsmith<0.4,>=0.1.125->langchain_core) (1.0.0)\n",
      "Requirement already satisfied: zstandard<0.24.0,>=0.23.0 in /Users/binwei130/opt/miniconda3/envs/sub_test/lib/python3.11/site-packages (from langsmith<0.4,>=0.1.125->langchain_core) (0.23.0)\n",
      "Requirement already satisfied: click>=8.1.7 in /Users/binwei130/opt/miniconda3/envs/sub_test/lib/python3.11/site-packages (from magika~=0.6.1->markitdown[all]) (8.1.8)\n",
      "Requirement already satisfied: onnxruntime>=1.17.0 in /Users/binwei130/opt/miniconda3/envs/sub_test/lib/python3.11/site-packages (from magika~=0.6.1->markitdown[all]) (1.21.1)\n",
      "Requirement already satisfied: numpy>=1.24 in /Users/binwei130/opt/miniconda3/envs/sub_test/lib/python3.11/site-packages (from magika~=0.6.1->markitdown[all]) (2.2.5)\n",
      "Requirement already satisfied: python-dotenv>=1.0.1 in /Users/binwei130/opt/miniconda3/envs/sub_test/lib/python3.11/site-packages (from magika~=0.6.1->markitdown[all]) (1.1.0)\n",
      "Requirement already satisfied: idna<4,>=2.5 in /Users/binwei130/opt/miniconda3/envs/sub_test/lib/python3.11/site-packages (from requests->markitdown[all]) (3.10)\n",
      "Requirement already satisfied: urllib3<3,>=1.21.1 in /Users/binwei130/opt/miniconda3/envs/sub_test/lib/python3.11/site-packages (from requests->markitdown[all]) (2.4.0)\n",
      "Requirement already satisfied: certifi>=2017.4.17 in /Users/binwei130/opt/miniconda3/envs/sub_test/lib/python3.11/site-packages (from requests->markitdown[all]) (2025.4.26)\n",
      "Requirement already satisfied: defusedxml<0.8.0,>=0.7.1 in /Users/binwei130/opt/miniconda3/envs/sub_test/lib/python3.11/site-packages (from youtube-transcript-api~=1.0.0->markitdown[all]) (0.7.1)\n",
      "Requirement already satisfied: isodate>=0.6.1 in /Users/binwei130/opt/miniconda3/envs/sub_test/lib/python3.11/site-packages (from azure-ai-documentintelligence->markitdown[all]) (0.7.2)\n",
      "Requirement already satisfied: azure-core>=1.30.0 in /Users/binwei130/opt/miniconda3/envs/sub_test/lib/python3.11/site-packages (from azure-ai-documentintelligence->markitdown[all]) (1.33.0)\n",
      "Requirement already satisfied: cryptography>=2.5 in /Users/binwei130/opt/miniconda3/envs/sub_test/lib/python3.11/site-packages (from azure-identity->markitdown[all]) (44.0.2)\n",
      "Requirement already satisfied: msal>=1.30.0 in /Users/binwei130/opt/miniconda3/envs/sub_test/lib/python3.11/site-packages (from azure-identity->markitdown[all]) (1.32.3)\n",
      "Requirement already satisfied: msal-extensions>=1.2.0 in /Users/binwei130/opt/miniconda3/envs/sub_test/lib/python3.11/site-packages (from azure-identity->markitdown[all]) (1.3.1)\n",
      "Requirement already satisfied: soupsieve>1.2 in /Users/binwei130/opt/miniconda3/envs/sub_test/lib/python3.11/site-packages (from beautifulsoup4->markitdown[all]) (2.7)\n",
      "Requirement already satisfied: cobble<0.2,>=0.1.3 in /Users/binwei130/opt/miniconda3/envs/sub_test/lib/python3.11/site-packages (from mammoth->markitdown[all]) (0.1.4)\n",
      "Requirement already satisfied: six<2,>=1.15 in /Users/binwei130/opt/miniconda3/envs/sub_test/lib/python3.11/site-packages (from markdownify->markitdown[all]) (1.17.0)\n",
      "Requirement already satisfied: et-xmlfile in /Users/binwei130/opt/miniconda3/envs/sub_test/lib/python3.11/site-packages (from openpyxl->markitdown[all]) (2.0.0)\n",
      "Requirement already satisfied: python-dateutil>=2.8.2 in /Users/binwei130/opt/miniconda3/envs/sub_test/lib/python3.11/site-packages (from pandas->markitdown[all]) (2.9.0.post0)\n",
      "Requirement already satisfied: pytz>=2020.1 in /Users/binwei130/opt/miniconda3/envs/sub_test/lib/python3.11/site-packages (from pandas->markitdown[all]) (2025.2)\n",
      "Requirement already satisfied: tzdata>=2022.7 in /Users/binwei130/opt/miniconda3/envs/sub_test/lib/python3.11/site-packages (from pandas->markitdown[all]) (2025.2)\n",
      "Requirement already satisfied: Pillow>=3.3.2 in /Users/binwei130/opt/miniconda3/envs/sub_test/lib/python3.11/site-packages (from python-pptx->markitdown[all]) (11.2.1)\n",
      "Requirement already satisfied: XlsxWriter>=0.5.7 in /Users/binwei130/opt/miniconda3/envs/sub_test/lib/python3.11/site-packages (from python-pptx->markitdown[all]) (3.2.3)\n",
      "Requirement already satisfied: lxml>=3.1.0 in /Users/binwei130/opt/miniconda3/envs/sub_test/lib/python3.11/site-packages (from python-pptx->markitdown[all]) (5.4.0)\n",
      "Requirement already satisfied: cffi>=1.12 in /Users/binwei130/opt/miniconda3/envs/sub_test/lib/python3.11/site-packages (from cryptography>=2.5->azure-identity->markitdown[all]) (1.17.1)\n",
      "Requirement already satisfied: anyio in /Users/binwei130/opt/miniconda3/envs/sub_test/lib/python3.11/site-packages (from httpx>=0.25.2->langgraph-sdk<0.2.0,>=0.1.42->langgraph) (4.9.0)\n",
      "Requirement already satisfied: httpcore==1.* in /Users/binwei130/opt/miniconda3/envs/sub_test/lib/python3.11/site-packages (from httpx>=0.25.2->langgraph-sdk<0.2.0,>=0.1.42->langgraph) (1.0.9)\n",
      "Requirement already satisfied: h11>=0.16 in /Users/binwei130/opt/miniconda3/envs/sub_test/lib/python3.11/site-packages (from httpcore==1.*->httpx>=0.25.2->langgraph-sdk<0.2.0,>=0.1.42->langgraph) (0.16.0)\n",
      "Requirement already satisfied: PyJWT<3,>=1.0.0 in /Users/binwei130/opt/miniconda3/envs/sub_test/lib/python3.11/site-packages (from PyJWT[crypto]<3,>=1.0.0->msal>=1.30.0->azure-identity->markitdown[all]) (2.10.1)\n",
      "Requirement already satisfied: coloredlogs in /Users/binwei130/opt/miniconda3/envs/sub_test/lib/python3.11/site-packages (from onnxruntime>=1.17.0->magika~=0.6.1->markitdown[all]) (15.0.1)\n",
      "Requirement already satisfied: flatbuffers in /Users/binwei130/opt/miniconda3/envs/sub_test/lib/python3.11/site-packages (from onnxruntime>=1.17.0->magika~=0.6.1->markitdown[all]) (25.2.10)\n",
      "Requirement already satisfied: protobuf in /Users/binwei130/opt/miniconda3/envs/sub_test/lib/python3.11/site-packages (from onnxruntime>=1.17.0->magika~=0.6.1->markitdown[all]) (6.30.2)\n",
      "Requirement already satisfied: sympy in /Users/binwei130/opt/miniconda3/envs/sub_test/lib/python3.11/site-packages (from onnxruntime>=1.17.0->magika~=0.6.1->markitdown[all]) (1.13.3)\n",
      "Requirement already satisfied: pycparser in /Users/binwei130/opt/miniconda3/envs/sub_test/lib/python3.11/site-packages (from cffi>=1.12->cryptography>=2.5->azure-identity->markitdown[all]) (2.22)\n",
      "Requirement already satisfied: sniffio>=1.1 in /Users/binwei130/opt/miniconda3/envs/sub_test/lib/python3.11/site-packages (from anyio->httpx>=0.25.2->langgraph-sdk<0.2.0,>=0.1.42->langgraph) (1.3.1)\n",
      "Requirement already satisfied: humanfriendly>=9.1 in /Users/binwei130/opt/miniconda3/envs/sub_test/lib/python3.11/site-packages (from coloredlogs->onnxruntime>=1.17.0->magika~=0.6.1->markitdown[all]) (10.0)\n",
      "Requirement already satisfied: mpmath<1.4,>=1.1.0 in /Users/binwei130/opt/miniconda3/envs/sub_test/lib/python3.11/site-packages (from sympy->onnxruntime>=1.17.0->magika~=0.6.1->markitdown[all]) (1.3.0)\n"
     ]
    }
   ],
   "source": [
    "# install dependencies\n",
    "! pip install langchain_ollama langchain_core 'markitdown[all]' pydantic langgraph"
   ]
  },
  {
   "cell_type": "code",
   "execution_count": 9,
   "id": "5e42b8ef",
   "metadata": {},
   "outputs": [],
   "source": [
    "import warnings\n",
    "\n",
    "warnings.filterwarnings(\n",
    "    \"ignore\",\n",
    "    message=\"Accessing the 'model_fields' attribute on the instance is deprecated.*\",\n",
    ")"
   ]
  },
  {
   "cell_type": "code",
   "execution_count": 4,
   "id": "515a942c",
   "metadata": {},
   "outputs": [],
   "source": [
    "# spin up the llm model, I've ran a ollama on a remote server and port forwarded it to my 11434 port\n",
    "from langchain_ollama import ChatOllama\n",
    "llm = ChatOllama(model=\"llama3.1:8b\")"
   ]
  },
  {
   "cell_type": "code",
   "execution_count": 5,
   "id": "30dd5648",
   "metadata": {},
   "outputs": [
    {
     "name": "stderr",
     "output_type": "stream",
     "text": [
      "/var/folders/7x/w1g1jwqx48z8yzslrm3bz0m40000gn/T/ipykernel_36456/3140769463.py:24: LangChainDeprecationWarning: The method `BaseTool.__call__` was deprecated in langchain-core 0.1.47 and will be removed in 1.0. Use :meth:`~invoke` instead.\n",
      "  get_markdown_pdf(\"a.pdf\")\n"
     ]
    },
    {
     "data": {
      "text/plain": [
       "'系\\u3000所\\u3000別\\n\\n組\\u3000\\u3000\\u3000別\\n\\n所 組 代 碼\\n\\n身\\u3000分\\u3000別\\n\\n招 生 名 額\\n\\n報 名 資 格\\n附 加 規 定\\n\\n報 名 審 查\\n資       料\\n\\n審查\\n\\n筆試\\n\\n考試\\n項目\\n\\n口試\\n\\n審 查\\n方 式\\n\\n佔總成\\n績比例\\n\\n參 加\\n資 格\\n\\n筆 試\\n科 目\\n\\n筆試日\\n期地點\\n\\n筆試注\\n意事項\\n\\n佔總成\\n績比例\\n\\n參 加\\n資 格\\n\\n口試日\\n期地點\\n\\n口試注\\n意事項\\n\\n佔總成\\n績比例\\n\\n生醫電子與資訊學研究所碩士班\\n\\n丙組(主修生醫資訊)\\n\\n9210\\n\\n一般生\\n\\n7\\n\\n一、學位證書或學生證\\n二、歷年成績單\\n三、名次證明書\\n四、1.履歷；2.申請動機與個人陳述（查照其他規定第二點）\\n五、個人基本資料表（查照其他規定第三點）\\n六、其他有助於審查之資料：如研究報告、競賽榮譽證書等皆可列入參考\\n七、一封以上推薦函(推薦人或考生皆可上傳，不限格式)\\n(報名期間補件請洽所辦公室，上傳截止日後除推薦函外不受理資料補件。)\\n\\n就所繳資料加以審查\\n\\n100%\\n\\n0%\\n\\n0%\\n\\n其 他 規 定\\n\\n一、報名請至研教組網頁。\\n二、本所網頁已公告「必繳報名審查資料」之格式，請務必依規定格式繳交。\\n三、個人基本資料表：報名前請至本所網站填寫後上傳至報名系統。此「個人基本\\n\\u3000\\u3000資料表」為主要審查之參考，請正確且詳實填寫相關項目。\\n四、考生請於鍵入報名資料時確認報考組別。\\n五、報名系統關閉後，補繳推薦函需於10月16日(三)中午12:00前mail寄至yuchun\\n\\u3000\\u3000chu@ntu.edu.tw。\\n\\n放 榜 梯 次\\n\\n於第1梯次放榜\\n\\n聯 絡 電 話\\n\\n(02)33664961\\n\\n網     址\\n\\nhttp://www.bebi.ntu.edu.tw\\n\\n114學年度-229\\n\\n'"
      ]
     },
     "execution_count": 5,
     "metadata": {},
     "output_type": "execute_result"
    }
   ],
   "source": [
    "from langchain_core.tools import tool\n",
    "from markitdown import MarkItDown\n",
    "from pydantic import BaseModel, Field\n",
    "import os\n",
    "\n",
    "md = MarkItDown(client=llm)\n",
    "\n",
    "@tool\n",
    "def get_markdown_pdf(file_name: str) -> str:\n",
    "    \"\"\"\n",
    "    Given a file name, return the markdown content of the PDF if the file exists.\n",
    "    \"\"\"\n",
    "    basedir = \"pdf_repo\"\n",
    "    files = os.listdir(basedir)\n",
    "    if file_name not in files:\n",
    "        return f\"File {file_name} not found in {basedir}, please check the file name.\"\n",
    "    file_path = os.path.join(basedir, file_name)\n",
    "    result = md.convert(file_path)\n",
    "    if result is None:\n",
    "        return f\"Failed to convert {file_name} to markdown.\"\n",
    "    return result.text_content\n",
    "\n",
    "# Example usage\n",
    "get_markdown_pdf(\"a.pdf\")"
   ]
  },
  {
   "cell_type": "code",
   "execution_count": 6,
   "id": "5ed1e617",
   "metadata": {},
   "outputs": [],
   "source": [
    "from langgraph.prebuilt import create_react_agent\n",
    "from langchain_core.messages import HumanMessage\n",
    "from langgraph.checkpoint.memory import MemorySaver\n",
    "\n",
    "memory = MemorySaver()\n",
    "\n",
    "agent_executor = create_react_agent(llm, [get_markdown_pdf], checkpointer=memory)\n"
   ]
  },
  {
   "cell_type": "code",
   "execution_count": 7,
   "id": "670ec9a3",
   "metadata": {},
   "outputs": [
    {
     "data": {
      "text/plain": [
       "[SystemMessage(content='You are a professional pdf analyzer.', additional_kwargs={}, response_metadata={}),\n",
       " HumanMessage(content='Please compare the following files: a.pdf, b.pdf.', additional_kwargs={}, response_metadata={})]"
      ]
     },
     "execution_count": 7,
     "metadata": {},
     "output_type": "execute_result"
    }
   ],
   "source": [
    "from langchain_core.prompts import ChatPromptTemplate\n",
    "\n",
    "prompt_template = ChatPromptTemplate.from_messages([\n",
    "    (\"system\", \"You are a professional pdf analyzer.\"),\n",
    "    (\"human\", \"Please compare the following files: {file_name1}, {file_name2}.\")\n",
    "])\n",
    "\n",
    "# Example usage\n",
    "prompted_messages = prompt_template.invoke({\"file_name1\": \"a.pdf\", \"file_name2\": \"b.pdf\"})\n",
    "prompted_messages.to_messages()"
   ]
  },
  {
   "cell_type": "code",
   "execution_count": 10,
   "id": "a1c73a56",
   "metadata": {},
   "outputs": [
    {
     "name": "stdout",
     "output_type": "stream",
     "text": [
      "{'agent': {'messages': [AIMessage(content='', additional_kwargs={}, response_metadata={'model': 'llama3.1:8b', 'created_at': '2025-04-26T12:27:40.235670386Z', 'done': True, 'done_reason': 'stop', 'total_duration': 3210384097, 'load_duration': 51231040, 'prompt_eval_count': 187, 'prompt_eval_duration': 1289929223, 'eval_count': 42, 'eval_duration': 1866685007, 'model_name': 'llama3.1:8b'}, id='run-22510df5-842a-4b22-8c28-c325b66a076c-0', tool_calls=[{'name': 'get_markdown_pdf', 'args': {'file_name': 'a.pdf'}, 'id': '874cad62-81f6-4e39-a987-5177298d0039', 'type': 'tool_call'}, {'name': 'get_markdown_pdf', 'args': {'file_name': 'b.pdf'}, 'id': '6c36a08e-ffa0-410c-857b-6f87e3768f1f', 'type': 'tool_call'}], usage_metadata={'input_tokens': 187, 'output_tokens': 42, 'total_tokens': 229})]}}\n",
      "----\n",
      "{'tools': {'messages': [ToolMessage(content='系\\u3000所\\u3000別\\n\\n組\\u3000\\u3000\\u3000別\\n\\n所 組 代 碼\\n\\n身\\u3000分\\u3000別\\n\\n招 生 名 額\\n\\n報 名 資 格\\n附 加 規 定\\n\\n報 名 審 查\\n資       料\\n\\n審查\\n\\n筆試\\n\\n考試\\n項目\\n\\n口試\\n\\n審 查\\n方 式\\n\\n佔總成\\n績比例\\n\\n參 加\\n資 格\\n\\n筆 試\\n科 目\\n\\n筆試日\\n期地點\\n\\n筆試注\\n意事項\\n\\n佔總成\\n績比例\\n\\n參 加\\n資 格\\n\\n口試日\\n期地點\\n\\n口試注\\n意事項\\n\\n佔總成\\n績比例\\n\\n生醫電子與資訊學研究所碩士班\\n\\n丙組(主修生醫資訊)\\n\\n9210\\n\\n一般生\\n\\n7\\n\\n一、學位證書或學生證\\n二、歷年成績單\\n三、名次證明書\\n四、1.履歷；2.申請動機與個人陳述（查照其他規定第二點）\\n五、個人基本資料表（查照其他規定第三點）\\n六、其他有助於審查之資料：如研究報告、競賽榮譽證書等皆可列入參考\\n七、一封以上推薦函(推薦人或考生皆可上傳，不限格式)\\n(報名期間補件請洽所辦公室，上傳截止日後除推薦函外不受理資料補件。)\\n\\n就所繳資料加以審查\\n\\n100%\\n\\n0%\\n\\n0%\\n\\n其 他 規 定\\n\\n一、報名請至研教組網頁。\\n二、本所網頁已公告「必繳報名審查資料」之格式，請務必依規定格式繳交。\\n三、個人基本資料表：報名前請至本所網站填寫後上傳至報名系統。此「個人基本\\n\\u3000\\u3000資料表」為主要審查之參考，請正確且詳實填寫相關項目。\\n四、考生請於鍵入報名資料時確認報考組別。\\n五、報名系統關閉後，補繳推薦函需於10月16日(三)中午12:00前mail寄至yuchun\\n\\u3000\\u3000chu@ntu.edu.tw。\\n\\n放 榜 梯 次\\n\\n於第1梯次放榜\\n\\n聯 絡 電 話\\n\\n(02)33664961\\n\\n網     址\\n\\nhttp://www.bebi.ntu.edu.tw\\n\\n114學年度-229\\n\\n', name='get_markdown_pdf', id='2a9eba49-33aa-4541-be5b-f04c3c8bf0db', tool_call_id='874cad62-81f6-4e39-a987-5177298d0039'), ToolMessage(content='系\\u3000所\\u3000別\\n\\n組\\u3000\\u3000\\u3000別\\n\\n所 組 代 碼\\n\\n身\\u3000分\\u3000別\\n\\n招 生 名 額\\n\\n報 名 資 格\\n附 加 規 定\\n\\n報 名 審 查\\n資       料\\n\\n審查\\n\\n筆試\\n\\n考試\\n項目\\n\\n口試\\n\\n審 查\\n方 式\\n\\n佔總成\\n績比例\\n\\n參 加\\n資 格\\n\\n筆 試\\n科 目\\n\\n筆試日\\n期地點\\n\\n筆試注\\n意事項\\n\\n佔總成\\n績比例\\n\\n參 加\\n資 格\\n\\n口試日\\n期地點\\n\\n口試注\\n意事項\\n\\n佔總成\\n績比例\\n\\n生醫電子與資訊學研究所碩士班\\n\\n甲組(主修生醫電子一)\\n\\n9190\\n\\n一般生\\n\\n16\\n\\n一、學位證書或學生證\\n二、歷年成績單\\n三、名次證明書\\n四、履歷及報考動機（查照其他規定第二點）\\n五、個人基本資料表（查照其他規定第三點）\\n六、其他有助於審查之資料：如研究報告、競賽榮譽證書等皆可列入參考\\n七、一封以上推薦函(推薦人或考生皆可上傳，不限格式)\\n(報名期間補件請洽所辦公室，上傳截止日後除推薦函外不受理資料補件。)\\n\\n就所繳資料加以審查\\n\\n100%\\n\\n0%\\n\\n0%\\n\\n其 他 規 定\\n\\n一、報名請至研教組網頁。\\n二、本所網頁已公告「必繳報名審查資料」之格式，請務必依規定格式繳交。\\n三、個人基本資料表：報名前請至本所網站填寫後上傳至報名系統。此「個人基本\\n\\u3000\\u3000資料表」為主要審查之參考，請正確且詳實填寫相關項目。\\n四、考生請於鍵入報名資料時確認報考組別。\\n五、報名系統關閉後，補繳推薦函需於10月16日(三)中午12:00前mail寄至yuchun\\n\\u3000\\u3000chu@ntu.edu.tw。\\n六、錄取考生須於113年11月22日(星期五)前確實完成指導教授登記作業，才能取\\n\\u3000\\u3000得網路報到資格。指導教授限本所生醫電子組教師。\\n\\n放 榜 梯 次\\n\\n於第1梯次放榜\\n\\n聯 絡 電 話\\n\\n(02)33664961\\n\\n網     址\\n\\nhttp://www.bebi.ntu.edu.tw\\n\\n114學年度-227\\n\\n', name='get_markdown_pdf', id='8db94da2-62ad-4d10-84f7-412defd14840', tool_call_id='6c36a08e-ffa0-410c-857b-6f87e3768f1f')]}}\n",
      "----\n",
      "{'agent': {'messages': [AIMessage(content=\"Based on the tool call response, I can compare the two PDF files.\\n\\nHere's a comparison of the contents of `a.pdf` and `b.pdf`:\\n\\n**Similarities:**\\n\\n* Both files are related to the recruitment process for graduate programs at National Taiwan University.\\n* They both mention the same requirements for admission, such as submitting academic transcripts, personal statements, and recommendation letters.\\n* The file format is identical, with the same headers and footers.\\n\\n**Differences:**\\n\\n* `a.pdf` is related to the Graduate Institute of Biomedical Electronics and Information Science, whereas `b.pdf` is related to the same institute but a different program (Master's program).\\n* The content of `a.pdf` is focused on the recruitment process for the Master's program in Biomedical Electronics, while `b.pdf` provides additional information about the program requirements.\\n* There are slight variations in the formatting and layout of the two files.\\n\\nOverall, both files are related to the same institution and purpose but have some differences in content and formatting.\", additional_kwargs={}, response_metadata={'model': 'llama3.1:8b', 'created_at': '2025-04-26T12:28:03.436790394Z', 'done': True, 'done_reason': 'stop', 'total_duration': 23067414986, 'load_duration': 51187075, 'prompt_eval_count': 1302, 'prompt_eval_duration': 13098197505, 'eval_count': 211, 'eval_duration': 9896134710, 'model_name': 'llama3.1:8b'}, id='run-92e215df-899b-485c-8e2b-de6f98885ed5-0', usage_metadata={'input_tokens': 1302, 'output_tokens': 211, 'total_tokens': 1513})]}}\n",
      "----\n"
     ]
    }
   ],
   "source": [
    "config = {\"configurable\": {\"thread_id\": \"abc134\"}}\n",
    "\n",
    "# 先用 prompt_template 生成一組訊息\n",
    "prompted_messages = prompt_template.invoke({\"file_name1\": input(\"請輸入你想比較的文件1: \"), \"file_name2\": input(\"請輸入你想比較的文件2: \")})\n",
    "\n",
    "# stream\n",
    "for chunk in agent_executor.stream(\n",
    "    {\"messages\": prompted_messages.to_messages()},\n",
    "    config,\n",
    "):\n",
    "    print(chunk)\n",
    "    print(\"----\")\n"
   ]
  },
  {
   "cell_type": "code",
   "execution_count": 13,
   "id": "a04d875d",
   "metadata": {},
   "outputs": [
    {
     "name": "stdout",
     "output_type": "stream",
     "text": [
      "{'agent': {'messages': [AIMessage(content='', additional_kwargs={}, response_metadata={'model': 'llama3.1:8b', 'created_at': '2025-04-26T11:40:35.614033419Z', 'done': True, 'done_reason': 'stop', 'total_duration': 2622053248, 'load_duration': 51951208, 'prompt_eval_count': 1659, 'prompt_eval_duration': 1522296464, 'eval_count': 22, 'eval_duration': 1017401065, 'model_name': 'llama3.1:8b'}, id='run-145e7885-a656-44c5-a51b-fca4d6f96c10-0', tool_calls=[{'name': 'get_markdown_pdf', 'args': {'file_name': 'diff_a.pdf'}, 'id': '4530903e-604a-4e39-b1ac-b00e4f6939b2', 'type': 'tool_call'}], usage_metadata={'input_tokens': 1659, 'output_tokens': 22, 'total_tokens': 1681})]}}\n",
      "----\n",
      "{'tools': {'messages': [ToolMessage(content='File diff_a.pdf not found in pdf_repo, please check the file name.', name='get_markdown_pdf', id='c095c36e-2c06-4ef5-91b3-123c1631e3d3', tool_call_id='4530903e-604a-4e39-b1ac-b00e4f6939b2')]}}\n",
      "----\n",
      "{'agent': {'messages': [AIMessage(content='Based on my previous analysis, one of the biggest differences between the two files is that File a.pdf has 7 available spots for the \"丙組(主修生醫資訊)\" (C group) program, while File b.pdf has 16 available spots for the \"甲組(主修生醫電子一)\" (A group) program.\\n\\nThis suggests that the A group program may be more competitive than the C group program, or it may be a more popular program among applicants.', additional_kwargs={}, response_metadata={'model': 'llama3.1:8b', 'created_at': '2025-04-26T11:40:41.209662326Z', 'done': True, 'done_reason': 'stop', 'total_duration': 5582954127, 'load_duration': 49870021, 'prompt_eval_count': 1595, 'prompt_eval_duration': 705379256, 'eval_count': 102, 'eval_duration': 4797009664, 'model_name': 'llama3.1:8b'}, id='run-ef2629a6-7344-4ccb-8fb7-e7648209cec7-0', usage_metadata={'input_tokens': 1595, 'output_tokens': 102, 'total_tokens': 1697})]}}\n",
      "----\n"
     ]
    }
   ],
   "source": [
    "for chunk in agent_executor.stream(\n",
    "    {\"messages\": [HumanMessage(content=\"What's the biggest difference tho?\")]}, config\n",
    "):\n",
    "    print(chunk)\n",
    "    print(\"----\")"
   ]
  },
  {
   "cell_type": "code",
   "execution_count": 14,
   "id": "be70c8e7",
   "metadata": {},
   "outputs": [
    {
     "name": "stdout",
     "output_type": "stream",
     "text": [
      "Based on the comparison of the two PDF files, here are some observations:\n",
      "\n",
      "1. Both PDFs appear to be related to graduate school admission at National Taiwan University.\n",
      "2. The content is mostly identical, with minor differences in formatting and layout.\n",
      "3. There are two different sections or \"組\" mentioned: 甲組 (Group A) and 丙組 (Group C).\n",
      "4. Group A has a specific requirement for the applicant's major to be \"生醫電子一\" (Biomedical Electronics I), while Group C has a more general requirement for the applicant's major.\n",
      "5. The two PDFs have different numbers of applicants accepted: 16 in Group A and 7 in Group C.\n",
      "\n",
      "In summary, while the content is mostly identical, there are some differences between the two PDFs related to specific requirements and applicant numbers for each group.|"
     ]
    }
   ],
   "source": [
    "# 先用 prompt_template 生成一組訊息\n",
    "prompted_messages = prompt_template.invoke({\"file_name1\": input(\"請輸入你想比較的文件1: \"), \"file_name2\": input(\"請輸入你想比較的文件2: \")})\n",
    "config = {\"configurable\": {\"thread_id\": \"abc2223\"}}\n",
    "## example using streaming \n",
    "# stream\n",
    "for step, metadata in agent_executor.stream(\n",
    "    {\"messages\": prompted_messages.to_messages()},\n",
    "    config,\n",
    "    stream_mode=\"messages\",\n",
    "):\n",
    "    if metadata[\"langgraph_node\"] == \"agent\" and (text := step.text()):\n",
    "        print(text, end=\"|\")"
   ]
  },
  {
   "cell_type": "code",
   "execution_count": null,
   "id": "b51dd08d",
   "metadata": {},
   "outputs": [],
   "source": [
    "for step, metadata in agent_executor.stream(\n",
    "    {\"messages\": HumanMessage(content=\"Which group interests you the most?\")},\n",
    "    config,\n",
    "    stream_mode=\"messages\",\n",
    "):\n",
    "    if metadata[\"langgraph_node\"] == \"agent\" and (text := step.text()):\n",
    "        print(text, end=\"|\")"
   ]
  }
 ],
 "metadata": {
  "kernelspec": {
   "display_name": "sub_test",
   "language": "python",
   "name": "python3"
  },
  "language_info": {
   "codemirror_mode": {
    "name": "ipython",
    "version": 3
   },
   "file_extension": ".py",
   "mimetype": "text/x-python",
   "name": "python",
   "nbconvert_exporter": "python",
   "pygments_lexer": "ipython3",
   "version": "3.11.12"
  }
 },
 "nbformat": 4,
 "nbformat_minor": 5
}
